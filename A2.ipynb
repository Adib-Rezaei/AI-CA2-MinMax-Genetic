{
 "cells": [
  {
   "cell_type": "markdown",
   "metadata": {},
   "source": [
    "# Computer Assignment 2 - Naive Bayes Classifier"
   ]
  },
  {
   "cell_type": "markdown",
   "metadata": {},
   "source": [
    "## Phase 1: Preprocess"
   ]
  },
  {
   "cell_type": "code",
   "execution_count": 59,
   "metadata": {},
   "outputs": [],
   "source": [
    "from __future__ import unicode_literals\n",
    "from hazm import *\n",
    "import pandas as pd"
   ]
  },
  {
   "cell_type": "code",
   "execution_count": 60,
   "metadata": {},
   "outputs": [
    {
     "data": {
      "text/html": [
       "<div>\n",
       "<style scoped>\n",
       "    .dataframe tbody tr th:only-of-type {\n",
       "        vertical-align: middle;\n",
       "    }\n",
       "\n",
       "    .dataframe tbody tr th {\n",
       "        vertical-align: top;\n",
       "    }\n",
       "\n",
       "    .dataframe thead th {\n",
       "        text-align: right;\n",
       "    }\n",
       "</style>\n",
       "<table border=\"1\" class=\"dataframe\">\n",
       "  <thead>\n",
       "    <tr style=\"text-align: right;\">\n",
       "      <th></th>\n",
       "      <th>title</th>\n",
       "      <th>description</th>\n",
       "      <th>categories</th>\n",
       "    </tr>\n",
       "  </thead>\n",
       "  <tbody>\n",
       "    <tr>\n",
       "      <th>0</th>\n",
       "      <td>بلبل خرمایی</td>\n",
       "      <td>سه عدد بلبل خرمایی سه ماهه.از وقتی جوجه بودن خ...</td>\n",
       "      <td>leisure-hobbies</td>\n",
       "    </tr>\n",
       "    <tr>\n",
       "      <th>1</th>\n",
       "      <td>عینک اسکی در حد</td>\n",
       "      <td>عینک اسکی دبل لنز مارک يو وكس  در حد نو اصلی م...</td>\n",
       "      <td>leisure-hobbies</td>\n",
       "    </tr>\n",
       "    <tr>\n",
       "      <th>2</th>\n",
       "      <td>تکیه سر تویوتا پرادو</td>\n",
       "      <td>پارچه ای سالم و تمیز.</td>\n",
       "      <td>vehicles</td>\n",
       "    </tr>\n",
       "    <tr>\n",
       "      <th>3</th>\n",
       "      <td>مجسمه کریستال24%</td>\n",
       "      <td>مجسمه دکوری کریستال بالرین Rcr24%</td>\n",
       "      <td>for-the-home</td>\n",
       "    </tr>\n",
       "    <tr>\n",
       "      <th>4</th>\n",
       "      <td>کیف و ساک</td>\n",
       "      <td>هر 2 کاملا تمیز هستند</td>\n",
       "      <td>personal</td>\n",
       "    </tr>\n",
       "  </tbody>\n",
       "</table>\n",
       "</div>"
      ],
      "text/plain": [
       "                  title                                        description  \\\n",
       "0           بلبل خرمایی  سه عدد بلبل خرمایی سه ماهه.از وقتی جوجه بودن خ...   \n",
       "1       عینک اسکی در حد  عینک اسکی دبل لنز مارک يو وكس  در حد نو اصلی م...   \n",
       "2  تکیه سر تویوتا پرادو                              پارچه ای سالم و تمیز.   \n",
       "3      مجسمه کریستال24%                  مجسمه دکوری کریستال بالرین Rcr24%   \n",
       "4             کیف و ساک                              هر 2 کاملا تمیز هستند   \n",
       "\n",
       "        categories  \n",
       "0  leisure-hobbies  \n",
       "1  leisure-hobbies  \n",
       "2         vehicles  \n",
       "3     for-the-home  \n",
       "4         personal  "
      ]
     },
     "execution_count": 60,
     "metadata": {},
     "output_type": "execute_result"
    }
   ],
   "source": [
    "df = pd.read_csv('divar_train.csv')\n",
    "df.head()"
   ]
  },
  {
   "cell_type": "code",
   "execution_count": 61,
   "metadata": {},
   "outputs": [
    {
     "name": "stdout",
     "output_type": "stream",
     "text": [
      "<class 'pandas.core.frame.DataFrame'>\n",
      "RangeIndex: 10200 entries, 0 to 10199\n",
      "Data columns (total 3 columns):\n",
      " #   Column       Non-Null Count  Dtype \n",
      "---  ------       --------------  ----- \n",
      " 0   title        10200 non-null  object\n",
      " 1   description  10200 non-null  object\n",
      " 2   categories   10200 non-null  object\n",
      "dtypes: object(3)\n",
      "memory usage: 239.2+ KB\n"
     ]
    }
   ],
   "source": [
    "df.info()"
   ]
  },
  {
   "cell_type": "markdown",
   "metadata": {},
   "source": [
    "Here we define stop words to help exclude stop words from text."
   ]
  },
  {
   "cell_type": "code",
   "execution_count": 62,
   "metadata": {},
   "outputs": [],
   "source": [
    "STOP_WORDS = ['از','که','با','به','برای','را','تا','اگه','اگر','اما','در', 'و', 'هر']"
   ]
  },
  {
   "cell_type": "markdown",
   "metadata": {},
   "source": [
    "We Also make use of stemmer and lemmatizer to make words simpler by making plulral words singular and get the root of each verb respectively"
   ]
  },
  {
   "cell_type": "code",
   "execution_count": 63,
   "metadata": {},
   "outputs": [],
   "source": [
    "stemmer = Stemmer()\n",
    "lemmatizer = Lemmatizer()\n",
    "def normalization(s):\n",
    "    words = word_tokenize(s)\n",
    "    words = list(filter(lambda word: word not in STOP_WORDS and len(word) > 1, words))\n",
    "    for index, word in enumerate(words):\n",
    "        words[index] = stemmer.stem(word)\n",
    "        words[index] = lemmatizer.lemmatize(word)\n",
    "    return words\n",
    "\n",
    "df['description'] = df['description'].apply(normalization)\n",
    "df['title'] = df['title'].apply(normalization)"
   ]
  },
  {
   "cell_type": "markdown",
   "metadata": {},
   "source": [
    "getting categoriy names"
   ]
  },
  {
   "cell_type": "code",
   "execution_count": 64,
   "metadata": {},
   "outputs": [
    {
     "data": {
      "text/plain": [
       "['leisure-hobbies',\n",
       " 'for-the-home',\n",
       " 'businesses',\n",
       " 'electronic-devices',\n",
       " 'vehicles',\n",
       " 'personal']"
      ]
     },
     "execution_count": 64,
     "metadata": {},
     "output_type": "execute_result"
    }
   ],
   "source": [
    "categories = list(set(df['categories']))\n",
    "categories"
   ]
  },
  {
   "cell_type": "markdown",
   "metadata": {},
   "source": [
    "## Phase 2: problem procedure"
   ]
  },
  {
   "cell_type": "markdown",
   "metadata": {},
   "source": [
    "We reduce description and title columns into one column and tokenize its words and then map it into its token count like we have token_to_count map."
   ]
  },
  {
   "cell_type": "markdown",
   "metadata": {},
   "source": [
    "We also have category_to_frequency map which maps categories into their token_to_count mapping."
   ]
  },
  {
   "cell_type": "code",
   "execution_count": 65,
   "metadata": {},
   "outputs": [
    {
     "data": {
      "text/html": [
       "<div>\n",
       "<style scoped>\n",
       "    .dataframe tbody tr th:only-of-type {\n",
       "        vertical-align: middle;\n",
       "    }\n",
       "\n",
       "    .dataframe tbody tr th {\n",
       "        vertical-align: top;\n",
       "    }\n",
       "\n",
       "    .dataframe thead th {\n",
       "        text-align: right;\n",
       "    }\n",
       "</style>\n",
       "<table border=\"1\" class=\"dataframe\">\n",
       "  <thead>\n",
       "    <tr style=\"text-align: right;\">\n",
       "      <th></th>\n",
       "    </tr>\n",
       "  </thead>\n",
       "  <tbody>\n",
       "  </tbody>\n",
       "</table>\n",
       "</div>"
      ],
      "text/plain": [
       "Empty DataFrame\n",
       "Columns: []\n",
       "Index: []"
      ]
     },
     "execution_count": 65,
     "metadata": {},
     "output_type": "execute_result"
    }
   ],
   "source": [
    "import collections\n",
    "\n",
    "category_to_frequency_map = {c:0 for c in categories}\n",
    "def mapping(df):\n",
    "    tokens = []\n",
    "    for token in list(df['description'].values):\n",
    "        tokens += token\n",
    "    for token in list(df['title'].values):\n",
    "        tokens += token \n",
    "    lst = tokens\n",
    "    token_to_count_map = dict(collections.Counter(lst))\n",
    "    category_name = df.iloc[0]['categories']\n",
    "    category_to_frequency_map[category_name] = token_to_count_map\n",
    "    \n",
    "\n",
    "df.groupby('categories').apply(mapping)"
   ]
  },
  {
   "cell_type": "markdown",
   "metadata": {},
   "source": [
    "**Predictor Prior Probability** <br>\n",
    "$p(x)$ : probability of seeing a word"
   ]
  },
  {
   "cell_type": "markdown",
   "metadata": {},
   "source": [
    "**Class Prior Probability** <br>\n",
    "$p(c)$ : probability of seeing a word with category c"
   ]
  },
  {
   "cell_type": "markdown",
   "metadata": {},
   "source": [
    "**Posterior** <br>\n",
    "$P(c|x) :$ probability of seeing category c by knowing that x is in there."
   ]
  },
  {
   "cell_type": "markdown",
   "metadata": {},
   "source": [
    "**likelihood** <br>\n",
    "Here we calculate probability of occurance of each token in its category which is $P(x|c)$ "
   ]
  },
  {
   "cell_type": "code",
   "execution_count": 66,
   "metadata": {},
   "outputs": [],
   "source": [
    "import copy \n",
    "category_to_frequency_map_prob = copy.deepcopy(category_to_frequency_map)\n",
    "for category in category_to_frequency_map_prob:\n",
    "    token_to_count_map = copy.deepcopy(category_to_frequency_map[category])\n",
    "    category_tokens_total = sum(token_to_count_map.values())\n",
    "    for token in token_to_count_map:\n",
    "        token_to_count_map[token] /= category_tokens_total \n",
    "    category_to_frequency_map_prob[category] = token_to_count_map\n"
   ]
  },
  {
   "cell_type": "markdown",
   "metadata": {},
   "source": [
    "#### Bigrams Q3"
   ]
  },
  {
   "cell_type": "markdown",
   "metadata": {},
   "source": [
    "یک لیوان شیر"
   ]
  },
  {
   "cell_type": "markdown",
   "metadata": {},
   "source": [
    "شیر جنگل"
   ]
  },
  {
   "cell_type": "markdown",
   "metadata": {},
   "source": [
    "in this example bigram is enough as livan and jangal won't come together most probably."
   ]
  },
  {
   "cell_type": "markdown",
   "metadata": {},
   "source": [
    "### Calculating Additive Smoothing probability"
   ]
  },
  {
   "cell_type": "code",
   "execution_count": 67,
   "metadata": {},
   "outputs": [],
   "source": [
    "category_to_frequency_map_prob_ad = copy.deepcopy(category_to_frequency_map)\n",
    "for category in category_to_frequency_map_prob_ad:\n",
    "    token_to_count_map = copy.deepcopy(category_to_frequency_map[category])\n",
    "    category_tokens_total = sum(token_to_count_map.values())\n",
    "    for token in token_to_count_map:\n",
    "        token_to_count_map[token] = (token_to_count_map[token] + 1) / (category_tokens_total + len(token_to_count_map) + 1)\n",
    "    category_to_frequency_map_prob_ad[category] = token_to_count_map\n"
   ]
  },
  {
   "cell_type": "markdown",
   "metadata": {},
   "source": [
    "### Baresi Sehat"
   ]
  },
  {
   "cell_type": "code",
   "execution_count": 68,
   "metadata": {},
   "outputs": [],
   "source": [
    "import matplotlib.pyplot as plt\n",
    "sorted_token_to_count = {c:0 for c in categories}\n",
    "for category in category_to_frequency_map:\n",
    "    token_to_count_map = category_to_frequency_map[category]\n",
    "    sorted_token_to_count[category] = dict(sorted(token_to_count_map.items(), key=lambda item: item[1], reverse=True))\n"
   ]
  },
  {
   "cell_type": "code",
   "execution_count": 69,
   "metadata": {},
   "outputs": [
    {
     "data": {
      "image/png": "[encoded data removed]",
      "text/plain": [
       "<Figure size 1152x576 with 6 Axes>"
      ]
     },
     "metadata": {
      "needs_background": "light"
     },
     "output_type": "display_data"
    }
   ],
   "source": [
    "fig, axs = plt.subplots(2, 3)\n",
    "fig.set_size_inches(16, 8)\n",
    "fig.tight_layout(pad=3.0)\n",
    "\n",
    "for i, key in enumerate(sorted_token_to_count):\n",
    "    token_to_count = sorted_token_to_count[key]\n",
    "    axs[int(i/3)][int(i%3)].set_title(key)\n",
    "    axs[int(i/3)][int(i%3)].bar(\n",
    "        list(token_to_count.keys())[0:5],\n",
    "        list(token_to_count.values())[0:5]\n",
    "    )\n",
    "\n",
    "plt.show()"
   ]
  },
  {
   "cell_type": "markdown",
   "metadata": {},
   "source": [
    "### Phase 3:  Evaluation"
   ]
  },
  {
   "cell_type": "code",
   "execution_count": 70,
   "metadata": {},
   "outputs": [
    {
     "data": {
      "text/html": [
       "<div>\n",
       "<style scoped>\n",
       "    .dataframe tbody tr th:only-of-type {\n",
       "        vertical-align: middle;\n",
       "    }\n",
       "\n",
       "    .dataframe tbody tr th {\n",
       "        vertical-align: top;\n",
       "    }\n",
       "\n",
       "    .dataframe thead th {\n",
       "        text-align: right;\n",
       "    }\n",
       "</style>\n",
       "<table border=\"1\" class=\"dataframe\">\n",
       "  <thead>\n",
       "    <tr style=\"text-align: right;\">\n",
       "      <th></th>\n",
       "      <th>title</th>\n",
       "      <th>description</th>\n",
       "      <th>categories</th>\n",
       "    </tr>\n",
       "  </thead>\n",
       "  <tbody>\n",
       "    <tr>\n",
       "      <th>0</th>\n",
       "      <td>کیف مجلسی نو</td>\n",
       "      <td>کیف مجلسی نوی نو</td>\n",
       "      <td>personal</td>\n",
       "    </tr>\n",
       "    <tr>\n",
       "      <th>1</th>\n",
       "      <td>دیوار کوب نمدی تزیینی</td>\n",
       "      <td>مناسب برای جهاز عروس</td>\n",
       "      <td>for-the-home</td>\n",
       "    </tr>\n",
       "    <tr>\n",
       "      <th>2</th>\n",
       "      <td>دو تیکه بسیار بسیار تمیز و سالم</td>\n",
       "      <td>با کشوی مخفی و شیک</td>\n",
       "      <td>for-the-home</td>\n",
       "    </tr>\n",
       "    <tr>\n",
       "      <th>3</th>\n",
       "      <td>مودم</td>\n",
       "      <td>سلام مودم سالم با وسایلش،دیگه ب کارم نمیاد \\nم...</td>\n",
       "      <td>electronic-devices</td>\n",
       "    </tr>\n",
       "    <tr>\n",
       "      <th>4</th>\n",
       "      <td>تعداد18عددبوقلمون به قیمت عمده</td>\n",
       "      <td>سلام تعدای بوقلمون دارم به علت جابه جایی به فر...</td>\n",
       "      <td>leisure-hobbies</td>\n",
       "    </tr>\n",
       "    <tr>\n",
       "      <th>...</th>\n",
       "      <td>...</td>\n",
       "      <td>...</td>\n",
       "      <td>...</td>\n",
       "    </tr>\n",
       "    <tr>\n",
       "      <th>1795</th>\n",
       "      <td>باسکول 300کیلویی</td>\n",
       "      <td>سالمه سالمه بشرط\\nقیمت نوش داخل بازار600تومنه</td>\n",
       "      <td>businesses</td>\n",
       "    </tr>\n",
       "    <tr>\n",
       "      <th>1796</th>\n",
       "      <td>میز مدیریتی با کنفرانس</td>\n",
       "      <td>میز مدیریتی با کنفرانس \\nتمیز سالم بدون خط و خش</td>\n",
       "      <td>businesses</td>\n",
       "    </tr>\n",
       "    <tr>\n",
       "      <th>1797</th>\n",
       "      <td>باند aiwa</td>\n",
       "      <td>سالم،با اسپیکر</td>\n",
       "      <td>electronic-devices</td>\n",
       "    </tr>\n",
       "    <tr>\n",
       "      <th>1798</th>\n",
       "      <td>عروس هلندی مولد</td>\n",
       "      <td>پنج تا عروس هلندی،  دو جفت ویک تک،یه جفتش دم ت...</td>\n",
       "      <td>leisure-hobbies</td>\n",
       "    </tr>\n",
       "    <tr>\n",
       "      <th>1799</th>\n",
       "      <td>ست دستباف دخترانه یکساله نو</td>\n",
       "      <td>ست دخترانه تا یکسال و نیم هم میشه ،کاردست و نو...</td>\n",
       "      <td>personal</td>\n",
       "    </tr>\n",
       "  </tbody>\n",
       "</table>\n",
       "<p>1800 rows × 3 columns</p>\n",
       "</div>"
      ],
      "text/plain": [
       "                                title  \\\n",
       "0                        کیف مجلسی نو   \n",
       "1               دیوار کوب نمدی تزیینی   \n",
       "2     دو تیکه بسیار بسیار تمیز و سالم   \n",
       "3                                مودم   \n",
       "4      تعداد18عددبوقلمون به قیمت عمده   \n",
       "...                               ...   \n",
       "1795                 باسکول 300کیلویی   \n",
       "1796           میز مدیریتی با کنفرانس   \n",
       "1797                        باند aiwa   \n",
       "1798                  عروس هلندی مولد   \n",
       "1799      ست دستباف دخترانه یکساله نو   \n",
       "\n",
       "                                            description          categories  \n",
       "0                                      کیف مجلسی نوی نو            personal  \n",
       "1                                  مناسب برای جهاز عروس        for-the-home  \n",
       "2                                    با کشوی مخفی و شیک        for-the-home  \n",
       "3     سلام مودم سالم با وسایلش،دیگه ب کارم نمیاد \\nم...  electronic-devices  \n",
       "4     سلام تعدای بوقلمون دارم به علت جابه جایی به فر...     leisure-hobbies  \n",
       "...                                                 ...                 ...  \n",
       "1795      سالمه سالمه بشرط\\nقیمت نوش داخل بازار600تومنه          businesses  \n",
       "1796    میز مدیریتی با کنفرانس \\nتمیز سالم بدون خط و خش          businesses  \n",
       "1797                                     سالم،با اسپیکر  electronic-devices  \n",
       "1798  پنج تا عروس هلندی،  دو جفت ویک تک،یه جفتش دم ت...     leisure-hobbies  \n",
       "1799  ست دخترانه تا یکسال و نیم هم میشه ،کاردست و نو...            personal  \n",
       "\n",
       "[1800 rows x 3 columns]"
      ]
     },
     "execution_count": 70,
     "metadata": {},
     "output_type": "execute_result"
    }
   ],
   "source": [
    "df_test = pd.read_csv('divar_test.csv')\n",
    "df_test"
   ]
  },
  {
   "cell_type": "code",
   "execution_count": 71,
   "metadata": {},
   "outputs": [],
   "source": [
    "df_test['description'] = df_test['description'].apply(normalization)\n",
    "df_test['title'] = df_test['title'].apply(normalization)\n",
    "\n"
   ]
  },
  {
   "cell_type": "markdown",
   "metadata": {},
   "source": [
    "Q10)"
   ]
  },
  {
   "cell_type": "markdown",
   "metadata": {},
   "source": [
    "### Not Additivie Smoothing"
   ]
  },
  {
   "cell_type": "code",
   "execution_count": 72,
   "metadata": {},
   "outputs": [],
   "source": [
    "import math\n",
    "p_c = {c:df_test.groupby('categories').size()[c]/len(df_test.index) for c in categories}\n",
    "def classifier(words):\n",
    "    likelihood = {}\n",
    "    for category, c_probability in p_c.items():\n",
    "        prob = math.log(c_probability)\n",
    "        for word in words:\n",
    "            if word not in category_to_frequency_map_prob[category]:\n",
    "                prob = float(-math.inf)\n",
    "                break\n",
    "            prob += math.log(category_to_frequency_map_prob[category][word])\n",
    "        likelihood[category] = prob\n",
    "    return max(likelihood, key = likelihood.get)\n"
   ]
  },
  {
   "cell_type": "code",
   "execution_count": 73,
   "metadata": {},
   "outputs": [
    {
     "name": "stdout",
     "output_type": "stream",
     "text": [
      "Accuracy:  0.4027777777777778\n"
     ]
    }
   ],
   "source": [
    "count = 0\n",
    "for row in df_test.iloc:\n",
    "    words = row['title'] + row['description']\n",
    "    if classifier(words) == row['categories']:\n",
    "        count += 1\n",
    "print(\"Accuracy: \", count / df_test.shape[0])\n"
   ]
  },
  {
   "cell_type": "code",
   "execution_count": 74,
   "metadata": {},
   "outputs": [
    {
     "name": "stdout",
     "output_type": "stream",
     "text": [
      "**Results for  leisure-hobbies **\n",
      "True Positive for leisure-hobbies 294\n",
      "False Positive for leisure-hobbies 1010\n",
      "False Negative for leisure-hobbies 6\n",
      "Precision: 0.2254601226993865\n",
      "Recall: 0.98\n",
      "F1: 0.3665835411471322\n",
      "\n",
      "**Results for  for-the-home **\n",
      "True Positive for for-the-home 111\n",
      "False Positive for for-the-home 18\n",
      "False Negative for for-the-home 189\n",
      "Precision: 0.8604651162790697\n",
      "Recall: 0.37\n",
      "F1: 0.5174825174825175\n",
      "\n",
      "**Results for  businesses **\n",
      "True Positive for businesses 85\n",
      "False Positive for businesses 26\n",
      "False Negative for businesses 215\n",
      "Precision: 0.7657657657657657\n",
      "Recall: 0.2833333333333333\n",
      "F1: 0.413625304136253\n",
      "\n",
      "**Results for  electronic-devices **\n",
      "True Positive for electronic-devices 54\n",
      "False Positive for electronic-devices 7\n",
      "False Negative for electronic-devices 246\n",
      "Precision: 0.8852459016393442\n",
      "Recall: 0.18\n",
      "F1: 0.29916897506925205\n",
      "\n",
      "**Results for  vehicles **\n",
      "True Positive for vehicles 83\n",
      "False Positive for vehicles 5\n",
      "False Negative for vehicles 217\n",
      "Precision: 0.9431818181818182\n",
      "Recall: 0.27666666666666667\n",
      "F1: 0.4278350515463918\n",
      "\n",
      "**Results for  personal **\n",
      "True Positive for personal 98\n",
      "False Positive for personal 9\n",
      "False Negative for personal 202\n",
      "Precision: 0.9158878504672897\n",
      "Recall: 0.32666666666666666\n",
      "F1: 0.4815724815724816\n",
      "\n"
     ]
    }
   ],
   "source": [
    "tp = {c:0 for c in categories}\n",
    "fp = {c:0 for c in categories}\n",
    "fn = {c:0 for c in categories}\n",
    "for row in df_test.iloc:\n",
    "    words = row['title'] + row['description']\n",
    "    target_category = row['categories']\n",
    "    detect = classifier(words)\n",
    "    if detect == target_category:\n",
    "        tp[target_category] += 1\n",
    "    else:\n",
    "        fp[detect] += 1\n",
    "        fn[target_category] += 1\n",
    "\n",
    "\n",
    "for category in categories:\n",
    "    precision = tp[category] / (tp[category] + fp[category])\n",
    "    recall = tp[category] / (tp[category] + fn[category])\n",
    "    f1 = (2 * precision * recall) / (precision + recall)\n",
    "    print(\"**Results for \", category, \"**\")\n",
    "    print(\"True Positive for\", category, tp[category])\n",
    "    print(\"False Positive for\", category, fp[category])\n",
    "    print(\"False Negative for\", category, fn[category])\n",
    "    print(\"Precision:\", precision)\n",
    "    print(\"Recall:\", recall)\n",
    "    print(\"F1:\", f1)\n",
    "    print()"
   ]
  },
  {
   "cell_type": "markdown",
   "metadata": {},
   "source": [
    "### Additivie Smoothing"
   ]
  },
  {
   "cell_type": "code",
   "execution_count": 75,
   "metadata": {},
   "outputs": [],
   "source": [
    "def additive_classifier(words):\n",
    "    likelihood = {}\n",
    "    for category, c_probability in p_c.items():\n",
    "        category_tokens_total = sum(category_to_frequency_map[category].values())\n",
    "\n",
    "        prob = math.log(c_probability)\n",
    "        for word in words:\n",
    "            if word not in category_to_frequency_map_prob_ad[category]:\n",
    "                prob += math.log(1 / (category_tokens_total + len(token_to_count_map) + 1))\n",
    "            else:\n",
    "                prob += math.log(category_to_frequency_map_prob_ad[category][word])\n",
    "        likelihood[category] = prob\n",
    "    return max(likelihood, key = likelihood.get)"
   ]
  },
  {
   "cell_type": "code",
   "execution_count": 76,
   "metadata": {},
   "outputs": [
    {
     "name": "stdout",
     "output_type": "stream",
     "text": [
      "Accuracy:  0.8644444444444445\n"
     ]
    }
   ],
   "source": [
    "count = 0\n",
    "for row in df_test.iloc:\n",
    "    words = row['title'] + row['description']\n",
    "    if additive_classifier(words) == row['categories']:\n",
    "        count += 1\n",
    "print(\"Accuracy: \", count / df_test.shape[0])"
   ]
  },
  {
   "cell_type": "code",
   "execution_count": 77,
   "metadata": {},
   "outputs": [
    {
     "name": "stdout",
     "output_type": "stream",
     "text": [
      "**Results for  leisure-hobbies **\n",
      "True Positive for leisure-hobbies 248\n",
      "False Positive for leisure-hobbies 22\n",
      "False Negative for leisure-hobbies 52\n",
      "Precision: 0.9185185185185185\n",
      "Recall: 0.8266666666666667\n",
      "F1: 0.8701754385964913\n",
      "\n",
      "**Results for  for-the-home **\n",
      "True Positive for for-the-home 270\n",
      "False Positive for for-the-home 81\n",
      "False Negative for for-the-home 30\n",
      "Precision: 0.7692307692307693\n",
      "Recall: 0.9\n",
      "F1: 0.8294930875576038\n",
      "\n",
      "**Results for  businesses **\n",
      "True Positive for businesses 232\n",
      "False Positive for businesses 62\n",
      "False Negative for businesses 68\n",
      "Precision: 0.7891156462585034\n",
      "Recall: 0.7733333333333333\n",
      "F1: 0.7811447811447811\n",
      "\n",
      "**Results for  electronic-devices **\n",
      "True Positive for electronic-devices 270\n",
      "False Positive for electronic-devices 25\n",
      "False Negative for electronic-devices 30\n",
      "Precision: 0.9152542372881356\n",
      "Recall: 0.9\n",
      "F1: 0.9075630252100839\n",
      "\n",
      "**Results for  vehicles **\n",
      "True Positive for vehicles 267\n",
      "False Positive for vehicles 14\n",
      "False Negative for vehicles 33\n",
      "Precision: 0.9501779359430605\n",
      "Recall: 0.89\n",
      "F1: 0.9191049913941481\n",
      "\n",
      "**Results for  personal **\n",
      "True Positive for personal 269\n",
      "False Positive for personal 40\n",
      "False Negative for personal 31\n",
      "Precision: 0.8705501618122977\n",
      "Recall: 0.8966666666666666\n",
      "F1: 0.883415435139573\n",
      "\n"
     ]
    }
   ],
   "source": [
    "tp = {c:0 for c in categories}\n",
    "fp = {c:0 for c in categories}\n",
    "fn = {c:0 for c in categories}\n",
    "wrong = []\n",
    "wrong_c = []\n",
    "for row in df_test.iloc:\n",
    "    words = row['title'] + row['description']\n",
    "    target_category = row['categories']\n",
    "    detect = additive_classifier(words)\n",
    "    if detect == target_category:\n",
    "        tp[target_category] += 1\n",
    "    else:\n",
    "        fp[detect] += 1\n",
    "        fn[target_category] += 1\n",
    "\n",
    "        wrong.append(row)\n",
    "        wrong_c.append(detect)\n",
    "\n",
    "\n",
    "for category in categories:\n",
    "    precision = tp[category] / (tp[category] + fp[category])\n",
    "    recall = tp[category] / (tp[category] + fn[category])\n",
    "    f1 = (2 * precision * recall) / (precision + recall)\n",
    "    print(\"**Results for \", category, \"**\")\n",
    "    print(\"True Positive for\", category, tp[category])\n",
    "    print(\"False Positive for\", category, fp[category])\n",
    "    print(\"False Negative for\", category, fn[category])\n",
    "    print(\"Precision:\", precision)\n",
    "    print(\"Recall:\", recall)\n",
    "    print(\"F1:\", f1)\n",
    "    print()\n",
    "        "
   ]
  },
  {
   "cell_type": "markdown",
   "metadata": {},
   "source": [
    "Q7) if the model guess any test case category the same then one of precision becomes 100%, this also true for recall"
   ]
  },
  {
   "cell_type": "markdown",
   "metadata": {},
   "source": [
    "Q8) this score takes both FT and FN into account thus more useful than accuracy when you don't have an even class distribution"
   ]
  },
  {
   "cell_type": "markdown",
   "metadata": {},
   "source": [
    "Q9) \n",
    "\n",
    "**Micro**: computes f1 by value total true positives, false negatives and false positives\n",
    "\n",
    "**Macro**: computess f1 for each label, and returns the average without considering the proportion for each label in the dataset.\n",
    "\n",
    "**Weighted**: computes f1 for each label, and returns the average considering the proportion for each label in the dataset."
   ]
  },
  {
   "cell_type": "markdown",
   "metadata": {},
   "source": [
    "Q11) Additive results is way better than normal"
   ]
  },
  {
   "cell_type": "code",
   "execution_count": 78,
   "metadata": {},
   "outputs": [
    {
     "name": "stdout",
     "output_type": "stream",
     "text": [
      "Macro Average Precision:  0.8688078781752142\n",
      "Macro Average recall:  0.8644444444444445\n",
      "Macro Average f1:  0.8651494598404468\n"
     ]
    }
   ],
   "source": [
    "precision = 0\n",
    "recall = 0\n",
    "f1 = 0\n",
    "for category in categories:\n",
    "    p = tp[category] / (tp[category] + fp[category])\n",
    "    precision += p\n",
    "    r = tp[category] / (tp[category] + fn[category])\n",
    "    recall += r\n",
    "    f1 += (2 * p * r) / (p + r)\n",
    "\n",
    "print(\"Macro Average Precision: \", precision/6)\n",
    "print(\"Macro Average recall: \", recall/6)\n",
    "print(\"Macro Average f1: \", f1/6)"
   ]
  },
  {
   "cell_type": "markdown",
   "metadata": {},
   "source": [
    "### Micro Average With Additive Smoothing:\n",
    "\n",
    "$$Precision = \\frac{TP_1 + TP_2 + TP_3 + TP_4 + TP_5 + TP_6}{TP_1 + FP_1 + TP_2 + FP_2 + TP_3 + FP_3 + TP_4 + FP_4 + TP_5 + FP_5 + TP_6 + FP_6}$$\n"
   ]
  },
  {
   "cell_type": "code",
   "execution_count": 79,
   "metadata": {},
   "outputs": [
    {
     "name": "stdout",
     "output_type": "stream",
     "text": [
      "Micro Average Precision:  0.8644444444444445\n"
     ]
    }
   ],
   "source": [
    "precision = sum(tp.values())/(sum(fp.values())+sum(tp.values()))\n",
    "print(\"Micro Average Precision: \", precision)"
   ]
  },
  {
   "cell_type": "markdown",
   "metadata": {},
   "source": [
    "$$Recall = \\frac{TP_1 + TP_2 + TP_3 + TP_4 + TP_5 + TP_6}{TP_1 + FN_1 + TP_2 + FN_2 + TP_3 + FN_3 + TP_4 + FN_4 + TP_5 + FN_5 + TP_6 + FN_6}$$\n",
    "\n"
   ]
  },
  {
   "cell_type": "code",
   "execution_count": 80,
   "metadata": {},
   "outputs": [
    {
     "name": "stdout",
     "output_type": "stream",
     "text": [
      "Micro Average Recall:  0.8644444444444445\n"
     ]
    }
   ],
   "source": [
    "recall = sum(tp.values())/(sum(fp.values())+sum(tp.values()))\n",
    "print(\"Micro Average Recall: \", recall)"
   ]
  },
  {
   "cell_type": "markdown",
   "metadata": {},
   "source": [
    "$$ F_1 = 2\\frac{Precision.Recall}{Precision + Recall} $$"
   ]
  },
  {
   "cell_type": "code",
   "execution_count": 81,
   "metadata": {},
   "outputs": [
    {
     "name": "stdout",
     "output_type": "stream",
     "text": [
      "Micro Average F1:  0.8644444444444445\n"
     ]
    }
   ],
   "source": [
    "print(\"Micro Average F1: \", (2 * precision * recall)/(precision + recall))"
   ]
  },
  {
   "cell_type": "markdown",
   "metadata": {},
   "source": [
    "### Weighted Average With Additive Smoothing:\n",
    "\n",
    "Because the number of samples of each category in the test dataset is the same so the Weighted average will be exactly the same as Macro average."
   ]
  },
  {
   "cell_type": "markdown",
   "metadata": {},
   "source": [
    "Q12)"
   ]
  },
  {
   "cell_type": "code",
   "execution_count": 85,
   "metadata": {},
   "outputs": [
    {
     "data": {
      "text/plain": [
       "[title                                                 [سیپوراکس]\n",
       " description    [سیپوراکس, میکرو, مک, جی, بی, ال, سرامیک, سرا,...\n",
       " categories                                       leisure-hobbies\n",
       " Name: 16, dtype: object,\n",
       " title                                      [موتور, تزیین]\n",
       " description    [جنس, اهن, کار, دست, عرضه, صورت, عمده, تک]\n",
       " categories                                   for-the-home\n",
       " Name: 28, dtype: object,\n",
       " title          [90, عدد, بشقاب, پیتزا, تک, نفره, قیمت, هرعدد,...\n",
       " description    [بشقاب, پیتزا, یک, نفره, عدد, 4000, باتشکراز, ...\n",
       " categories                                            businesses\n",
       " Name: 37, dtype: object,\n",
       " title                        [اچارشلاقی, HEYCOالمان]\n",
       " description    [اصل, المان, سایز, ۱/۵, بسیار, مقاوم]\n",
       " categories                                businesses\n",
       " Name: 49, dtype: object,\n",
       " title                                    [فروش, تلفکس]\n",
       " description    [سلام, تلفکس, پاناسونیک, تمیز, کم, کار]\n",
       " categories                                  businesses\n",
       " Name: 50, dtype: object]"
      ]
     },
     "execution_count": 85,
     "metadata": {},
     "output_type": "execute_result"
    }
   ],
   "source": [
    "wrong[0:5]"
   ]
  },
  {
   "cell_type": "code",
   "execution_count": 84,
   "metadata": {},
   "outputs": [
    {
     "data": {
      "text/plain": [
       "Counter({'for-the-home': 81,\n",
       "         'businesses': 62,\n",
       "         'personal': 40,\n",
       "         'electronic-devices': 25,\n",
       "         'leisure-hobbies': 22,\n",
       "         'vehicles': 14})"
      ]
     },
     "execution_count": 84,
     "metadata": {},
     "output_type": "execute_result"
    }
   ],
   "source": [
    "collections.Counter(wrong_c)"
   ]
  },
  {
   "cell_type": "markdown",
   "metadata": {},
   "source": [
    "this happened because in some of these samples have words that got wrong with other words for other categories"
   ]
  }
 ],
 "metadata": {
  "interpreter": {
   "hash": "0adcc2737ebf6a4a119f135174df96668767fca1ef1112612db5ecadf2b6d608"
  },
  "kernelspec": {
   "display_name": "Python 3.8.0 64-bit",
   "language": "python",
   "name": "python3"
  },
  "language_info": {
   "codemirror_mode": {
    "name": "ipython",
    "version": 3
   },
   "file_extension": ".py",
   "mimetype": "text/x-python",
   "name": "python",
   "nbconvert_exporter": "python",
   "pygments_lexer": "ipython3",
   "version": "3.9.5"
  },
  "orig_nbformat": 4
 },
 "nbformat": 4,
 "nbformat_minor": 2
}
